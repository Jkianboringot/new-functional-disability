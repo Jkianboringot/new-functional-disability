{
 "cells": [
  {
   "cell_type": "code",
   "execution_count": null,
   "metadata": {},
   "outputs": [],
   "source": [
    "import pandas as pd\n",
    "\n",
    "# Creating the table as a DataFrame\n",
    "data = {\n",
    "    \"Region\": [\n",
    "        \"Cordillera Administrative Region (CAR)\"] * 6 + [\"Total Population of CAR\"] +\n",
    "        [\"Ilocos Region (Region I)\"] * 4 + [\"Total Population of Region I\"] +\n",
    "        [\"Cagayan Valley (Region II)\"] * 5 + [\"Total Population of Region II\"] +\n",
    "        [\"Central Luzon (Region III)\"] * 7 + [\"Total Population of Region III\"] +\n",
    "        [\"CALABARZON (Region IV-A)\"] * 5 + [\"Total Population of Region IV-A\"] +\n",
    "        [\"MIMAROPA Region (Region IV-B)\"] * 5 + [\"Total Population of Region IV-B\"] +\n",
    "        [\"Bicol Region (Region V)\"] * 6 + [\"Total Population of Region V\"],\n",
    "    \"Province\": [\n",
    "        \"Abra\", \"Apayao\", \"Benguet\", \"Ifugao\", \"Kalinga\", \"Mountain Province\", \"\",\n",
    "        \"Ilocos Norte\", \"Ilocos Sur\", \"La Union\", \"Pangasinan\", \"\",\n",
    "        \"Batanes\", \"Cagayan\", \"Isabela\", \"Nueva Vizcaya\", \"Quirino\", \"\",\n",
    "        \"Aurora\", \"Bataan\", \"Bulacan\", \"Nueva Ecija\", \"Pampanga\", \"Tarlac\", \"Zambales\", \"\",\n",
    "        \"Batangas\", \"Cavite\", \"Laguna\", \"Quezon\", \"Rizal\", \"\",\n",
    "        \"Marinduque\", \"Occidental Mindoro\", \"Oriental Mindoro\", \"Palawan\", \"Romblon\", \"\",\n",
    "        \"Albay\", \"Camarines Norte\", \"Camarines Sur\", \"Catanduanes\", \"Masbate\", \"Sorsogon\", \"\"\n",
    "    ],\n",
    "    \"Population\": [\n",
    "        250985, 124366, 460683, 207498, 229570, 158200, 1431302,\n",
    "        609588, 706009, 822352, 3163190, 5301139,\n",
    "        18831, 1268603, 1697050, 497432, 203828, 3685744,\n",
    "        235750, 853373, 3708890, 2310134, 2437709, 1503456, 649615, 11699927,\n",
    "        2908494, 4344829, 3382193, 2122830, 3330143, 16088489,\n",
    "        239207, 525354, 908339, 939594, 308985, 2921479,\n",
    "        1374768, 629699, 2068244, 271879, 908920, 828655, 6082165\n",
    "    ]\n",
    "}\n",
    "\n",
    "df = pd.DataFrame(data)\n",
    "\n",
    "# Saving the DataFrame as a CSV file\n",
    "file_path = \"/mnt/data/philippines_population.csv\"\n",
    "df.to_csv(file_path, index=False)\n",
    "file_path\n"
   ]
  }
 ],
 "metadata": {
  "kernelspec": {
   "display_name": ".venv",
   "language": "python",
   "name": "python3"
  },
  "language_info": {
   "name": "python",
   "version": "3.13.1"
  }
 },
 "nbformat": 4,
 "nbformat_minor": 2
}
